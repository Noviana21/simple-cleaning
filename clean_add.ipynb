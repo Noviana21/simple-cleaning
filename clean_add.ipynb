{
  "nbformat": 4,
  "nbformat_minor": 0,
  "metadata": {
    "colab": {
      "provenance": []
    },
    "kernelspec": {
      "name": "python3",
      "display_name": "Python 3"
    },
    "language_info": {
      "name": "python"
    }
  },
  "cells": [
    {
      "cell_type": "code",
      "execution_count": null,
      "metadata": {
        "colab": {
          "base_uri": "https://localhost:8080/"
        },
        "id": "idPp9G0dTVx4",
        "outputId": "7d4f6f10-55f5-4e47-d11d-9f78eedab50e"
      },
      "outputs": [
        {
          "output_type": "stream",
          "name": "stdout",
          "text": [
            "Terjadi error saat memproses file: 'comments'\n"
          ]
        }
      ],
      "source": [
        "import pandas as pd\n",
        "import html\n",
        "\n",
        "file_path = 'crimedata.csv'\n",
        "\n",
        "try:\n",
        "    df = pd.read_csv(\n",
        "        file_path,\n",
        "        on_bad_lines='skip',\n",
        "        nrows=1000\n",
        "    )\n",
        "    df['comments'] = df['comments'].loc[df['comments'].notna()].apply(html.unescape)\n",
        "\n",
        "    print(df.head())\n",
        "\n",
        "    df.to_csv('data_lapd_final_bersih.csv', index=False)\n",
        "    print(\"\\nData disimpan 'data_final_bersih.csv'\")\n",
        "\n",
        "    df.to_csv('data_final_bersih_untuk_excel.csv', index=False, sep=';')\n",
        "    print(\"\\nData disimpann 'data_final_bersih_untuk_excel.csv'\")\n",
        "\n",
        "\n",
        "except FileNotFoundError:\n",
        "    print(f\"Error\")\n",
        "except Exception as e:\n",
        "    print(f\"Error\")"
      ]
    },
    {
      "cell_type": "code",
      "source": [
        "import pandas as pd\n",
        "\n",
        "nama_file_input = 'murder.xlsx'\n",
        "\n",
        "nama_file_output = 'murder_cleaned.xlsx'\n",
        "\n",
        "try:\n",
        "    df = pd.read_excel(nama_file_input)\n",
        "\n",
        "    baris_awal = len(df)\n",
        "    print(f\"Baris awal: {baris_awal}\")\n",
        "\n",
        "    df_cleaned = df[df['Perpetrator Age'] != 0]\n",
        "\n",
        "    baris_akhir = len(df_cleaned)\n",
        "    print(f\"Baris bersih: {baris_akhir}\")\n",
        "\n",
        "    df_cleaned.to_excel(nama_file_output, index=False)\n",
        "\n",
        "    print(f\"\\nBerhasil dihapus.\")\n",
        "\n",
        "except FileNotFoundError:\n",
        "    print(f\"Error\")\n",
        "except KeyError:\n",
        "    print(\"Error\")"
      ],
      "metadata": {
        "colab": {
          "base_uri": "https://localhost:8080/"
        },
        "id": "WpVwgZbu424K",
        "outputId": "df809c62-5549-468f-fcdb-2367d77092be"
      },
      "execution_count": 2,
      "outputs": [
        {
          "output_type": "stream",
          "name": "stdout",
          "text": [
            "Jumlah baris awal: 1000\n",
            "Jumlah baris setelah dibersihkan: 865\n",
            "\n",
            "Berhasil! File 'murder_cleaned.xlsx' telah dibuat.\n",
            "Sebanyak 135 baris telah dihapus.\n"
          ]
        }
      ]
    },
    {
      "cell_type": "code",
      "source": [
        "import pandas as pd\n",
        "\n",
        "nama_file_input = 'murder_cleaned.xlsx'\n",
        "nama_file_output = 'murder_kategori_usia.xlsx'\n",
        "\n",
        "def tentukan_kategori_usia(usia):\n",
        "    if usia == 0:\n",
        "        return 'Unknown'\n",
        "    elif 1 <= usia <= 4:\n",
        "        return 'Bayi'\n",
        "    elif 5 <= usia <= 10:\n",
        "        return 'Anak-anak'\n",
        "    elif 11 <= usia <= 18:\n",
        "        return 'Remaja'\n",
        "    elif 19 <= usia <= 59:\n",
        "        return 'Dewasa'\n",
        "    elif usia >= 60:\n",
        "        return 'Lansia'\n",
        "    else:\n",
        "        return '---'\n",
        "\n",
        "try:\n",
        "    df = pd.read_excel(nama_file_input)\n",
        "\n",
        "    df['Age Category'] = df['Perpetrator Age'].apply(tentukan_kategori_usia)\n",
        "\n",
        "    df.to_excel(nama_file_output, index=False)\n",
        "\n",
        "    print(f\"Berhasil dibuat.\")\n",
        "\n",
        "except FileNotFoundError:\n",
        "    print(f\"Error\")\n",
        "except KeyError:\n",
        "    print(\"Error\")"
      ],
      "metadata": {
        "colab": {
          "base_uri": "https://localhost:8080/"
        },
        "id": "RmGwOWX09ohV",
        "outputId": "af44b9ce-22d7-467f-9366-0eefd576d180"
      },
      "execution_count": 4,
      "outputs": [
        {
          "output_type": "stream",
          "name": "stdout",
          "text": [
            "Berhasil! File 'murder_kategori_usia.xlsx' telah dibuat dengan kolom 'Age Category'.\n",
            "\n",
            "Contoh hasil:\n",
            "   Perpetrator Age Age Category\n",
            "0               21       Dewasa\n",
            "1               19       Dewasa\n",
            "2               20       Dewasa\n",
            "3               29       Dewasa\n",
            "4               31       Dewasa\n",
            "5               31       Dewasa\n",
            "6               34       Dewasa\n",
            "7               23       Dewasa\n",
            "8               24       Dewasa\n",
            "9               33       Dewasa\n"
          ]
        }
      ]
    },
    {
      "cell_type": "code",
      "source": [
        "import pandas as pd\n",
        "\n",
        "nama_file_input = 'ufo.xlsx'\n",
        "nama_file_output = 'ufo_cleaned.xlsx'\n",
        "\n",
        "try:\n",
        "    df = pd.read_excel(nama_file_input)\n",
        "    baris_awal = len(df)\n",
        "    df.dropna(subset=['shape'], inplace=True)\n",
        "    baris_akhir = len(df)\n",
        "    df.to_excel(nama_file_output, index=False)\n",
        "    print(f\"Berhasil dibuat.\")\n",
        "\n",
        "except FileNotFoundError:\n",
        "    print(f\"Error\")\n",
        "except KeyError:\n",
        "    print(\"Error\")"
      ],
      "metadata": {
        "colab": {
          "base_uri": "https://localhost:8080/"
        },
        "id": "3p5B8UplJLyy",
        "outputId": "97cfc503-0e82-4398-fc37-d6608c6fc971"
      },
      "execution_count": 5,
      "outputs": [
        {
          "output_type": "stream",
          "name": "stdout",
          "text": [
            "Membaca file 'ufo.xlsx'...\n",
            "\n",
            "--- Proses Cleaning Selesai ---\n",
            "Berhasil! File 'ufo_cleaned.xlsx' telah dibuat.\n",
            "Jumlah baris sebelum cleaning: 1000\n",
            "Jumlah baris setelah cleaning: 975\n",
            "Jumlah baris yang dihapus: 25\n",
            "\n",
            "Contoh 5 baris pertama dari data yang sudah bersih:\n",
            "           datetime                  city country     shape  \\\n",
            "0  10/10/1949 20:30            san marcos      us  cylinder   \n",
            "1  10/10/1949 21:00          lackland afb     NaN     light   \n",
            "2  10/10/1955 17:00  chester (uk/england)      gb    circle   \n",
            "3  10/10/1956 21:00                  edna      us    circle   \n",
            "4  10/10/1960 20:00               kaneohe      us     light   \n",
            "\n",
            "   duration (seconds)                                           comments  \n",
            "0               27000  This event took place in early fall around 194...  \n",
            "1               72000  1949 Lackland AFB, TX.  Lights racing across t...  \n",
            "2                 200   Green/Orange circular disc over Chester, England  \n",
            "3                 200  My older brother and twin sister were leaving ...  \n",
            "4                9000  AS a Marine 1st Lt. flying an FJ4B fighter/att...  \n"
          ]
        }
      ]
    }
  ]
}